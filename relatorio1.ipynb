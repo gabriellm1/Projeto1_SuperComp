{
 "cells": [
  {
   "cell_type": "markdown",
   "metadata": {},
   "source": [
    "# Projeto 1 - Alocação de alunos em PFE"
   ]
  },
  {
   "cell_type": "markdown",
   "metadata": {},
   "source": [
    "Este projeto tem como objeto elaborar um algorítimo que aloque os alunos de engenharia em seus projetos finais. É de premissa dessa projeto que a melhor forma de alocar esteja correlacionada a felicidade global dos alunos, ou seja, a soma da satisfação deles quanto a alocação deve ser a maior possível. Além disso é importante ressaltar que o número de alunos é divisível por 3 e o número de projetos é equivalente a este número de alunos dividido por 3."
   ]
  },
  {
   "cell_type": "markdown",
   "metadata": {},
   "source": [
    "### Arquivos de entrada"
   ]
  },
  {
   "cell_type": "markdown",
   "metadata": {},
   "source": [
    "Os arquivos de entrada trazem na primeira linha o número de alunos, o número de projetos e o número de projetos nos quais os alunos podem se inscrever. As outras linhas representam cada aluno com a ordem de escolha de seus projetos."
   ]
  },
  {
   "cell_type": "code",
   "execution_count": 1,
   "metadata": {},
   "outputs": [],
   "source": [
    "# Exemplo de arquivo de entrada\n",
    "# 9 3 3  - n_alunos,n_projetos_n_choices\n",
    "# 0 1 2  - aluno 1 tem prefêrencia nos projetos 0 depois 1 depois 2\n",
    "# 2 1 0\n",
    "# 0 1 2\n",
    "# 0 2 1\n",
    "# 2 0 1\n",
    "# 2 1 0\n",
    "# 1 0 2\n",
    "# 0 1 2\n",
    "# 1 2 0"
   ]
  },
  {
   "cell_type": "markdown",
   "metadata": {},
   "source": [
    "### Solução ingênua"
   ]
  },
  {
   "cell_type": "markdown",
   "metadata": {},
   "source": [
    "Foi disponibilizado um arquivo com uma solução ingênua em python. Esta solução não é eficiente mas encontra o melhor caso possível. O output dela traz o \"score\" da satisfação dos alunos, seguido se a solução é a melhor possível e por fim, a alocação de cada aluno. \n",
    "A proposta desta primeira etapa seria traduzir essa solução para C++ e analisar os desempenhos obitidos em cada um."
   ]
  },
  {
   "cell_type": "markdown",
   "metadata": {},
   "source": [
    "### Fazendo build do arquivo solucao-ingenua.cpp C++"
   ]
  },
  {
   "cell_type": "code",
   "execution_count": 2,
   "metadata": {},
   "outputs": [
    {
     "name": "stdout",
     "output_type": "stream",
     "text": [
      "-- The C compiler identification is AppleClang 11.0.0.11000033\n",
      "-- The CXX compiler identification is GNU 9.1.0\n",
      "-- Check for working C compiler: /Applications/Xcode.app/Contents/Developer/Toolchains/XcodeDefault.xctoolchain/usr/bin/cc\n",
      "-- Check for working C compiler: /Applications/Xcode.app/Contents/Developer/Toolchains/XcodeDefault.xctoolchain/usr/bin/cc -- works\n",
      "-- Detecting C compiler ABI info\n",
      "-- Detecting C compiler ABI info - done\n",
      "-- Detecting C compile features\n",
      "-- Detecting C compile features - done\n",
      "-- Checking whether CXX compiler has -isysroot\n",
      "-- Checking whether CXX compiler has -isysroot - yes\n",
      "-- Checking whether CXX compiler supports OSX deployment target flag\n",
      "-- Checking whether CXX compiler supports OSX deployment target flag - yes\n",
      "-- Check for working CXX compiler: /usr/local/bin/g++-9\n",
      "-- Check for working CXX compiler: /usr/local/bin/g++-9 -- works\n",
      "-- Detecting CXX compiler ABI info\n",
      "-- Detecting CXX compiler ABI info - done\n",
      "-- Detecting CXX compile features\n",
      "-- Detecting CXX compile features - done\n",
      "-- Configuring done\n",
      "-- Generating done\n",
      "-- Build files have been written to: /Users/gmonteiro42/Documents/Insper/supercomp/Projetos/projeto1/build\n",
      "\u001b[35m\u001b[1mScanning dependencies of target solucao-ingenua\u001b[0m\n",
      "[ 50%] \u001b[32mBuilding CXX object CMakeFiles/solucao-ingenua.dir/solucao-ingenua.cpp.o\u001b[0m\n",
      "[100%] \u001b[32m\u001b[1mLinking CXX executable solucao-ingenua\u001b[0m\n",
      "[100%] Built target solucao-ingenua\n"
     ]
    }
   ],
   "source": [
    "! rm -R build\n",
    "! mkdir build\n",
    "! cmake -D CMAKE_CXX_COMPILER=g++-9 -B ./build\n",
    "! make -C ./build"
   ]
  },
  {
   "cell_type": "markdown",
   "metadata": {},
   "source": [
    "### Comparação dos desempenhos"
   ]
  },
  {
   "cell_type": "markdown",
   "metadata": {},
   "source": [
    "Foram gerados arquivos de entrada de tamanhos diferentes, e o código abaixo roda ambos algoritimos tanto em Python como em C++. Foram utilizadas as trincas abaixos para gerar as entradas."
   ]
  },
  {
   "cell_type": "markdown",
   "metadata": {},
   "source": [
    "Trincas(n_alunos,n_proj,n_escolhas):\n",
    "(6,2,2),\n",
    "(9,3,3),\n",
    "(12,4,4)"
   ]
  },
  {
   "cell_type": "code",
   "execution_count": 3,
   "metadata": {},
   "outputs": [],
   "source": [
    "# Program que cria arquivos de entrada\n",
    "# import random\n",
    "# import numpy as np\n",
    "\n",
    "# n_alunos = 12\n",
    "# n_proj = 4\n",
    "# n_escolhas = 3\n",
    "\n",
    "# print(n_alunos, n_proj, n_escolhas)\n",
    "\n",
    "# for i in range(n_alunos):\n",
    "#     choices = np.random.permutation(n_proj)\n",
    "#     print(' '.join([str(choices[c]) for c in range(n_escolhas) ]))"
   ]
  },
  {
   "cell_type": "markdown",
   "metadata": {},
   "source": [
    "A infraestrutura usada está descrita abaixo:\n",
    "Macbook Pro 13(2019): \n",
    "- 1.4GHz quad‑core 8th‑generation Intel Core i5 processor, Turbo Boost up to 3.9GHz\n",
    "- 16GB de RAM\n",
    "- Arquitetura x86_64"
   ]
  },
  {
   "cell_type": "markdown",
   "metadata": {},
   "source": [
    "O tempo foi medido utilizando a biblioteca time do Python aqui no próprio relatório no jupyter notebook. Para executar os programas basta seguir a seguinte formatação no terminal:\n",
    "- Python: python solucao-ingenua.py < nome_arquivo_de_entrada\n",
    "- C++:  ./build/solucao-ingenua < nome_arquivo_de_entrada // depois de compilar como demostrado acima no relatório)"
   ]
  },
  {
   "cell_type": "code",
   "execution_count": 4,
   "metadata": {},
   "outputs": [
    {
     "name": "stdout",
     "output_type": "stream",
     "text": [
      "Python\n",
      "21 1\n",
      "0 0 1 0 1 1\n",
      "C++\n",
      "21 1 \n",
      "0 0 1 0 1 1 \n",
      "Python\n",
      "71 1\n",
      "0 0 2 1 2 0 1 2 1\n",
      "C++\n",
      "71 1 \n",
      "0 0 2 1 2 0 1 2 1 \n",
      "Python\n",
      "171 1\n",
      "1 1 3 2 0 1 0 2 3 2 3 0\n",
      "C++\n",
      "171 1 \n",
      "1 1 3 2 0 1 0 2 3 2 3 0 \n"
     ]
    }
   ],
   "source": [
    "import time\n",
    "lista_arquivos = [\"entrada_1\",\"entrada_2\",\"entrada_3\"]\n",
    "temp_python = []\n",
    "temp_cpp = []\n",
    "for arq in lista_arquivos:\n",
    "    print(\"Python\")\n",
    "    start = time.time()\n",
    "    ! python solucao-ingenua.py < {arq}\n",
    "    temp_python.append(time.time()-start)\n",
    "    print(\"C++\")\n",
    "    start = time.time()\n",
    "    ! ./build/solucao-ingenua < {arq}\n",
    "    temp_cpp.append(time.time()-start)"
   ]
  },
  {
   "cell_type": "markdown",
   "metadata": {},
   "source": [
    "### Resultados"
   ]
  },
  {
   "cell_type": "markdown",
   "metadata": {},
   "source": [
    "Os dois algoritimos se validam ao retornarem os mesmos outputs. A comparação do tempo de execução de ambos é plotada abaixo."
   ]
  },
  {
   "cell_type": "code",
   "execution_count": 6,
   "metadata": {},
   "outputs": [
    {
     "data": {
      "text/plain": [
       "<matplotlib.legend.Legend at 0x1152d9438>"
      ]
     },
     "execution_count": 6,
     "metadata": {},
     "output_type": "execute_result"
    },
    {
     "data": {
      "image/png": "[encoded data removed]",
      "text/plain": [
       "<Figure size 432x288 with 1 Axes>"
      ]
     },
     "metadata": {
      "needs_background": "light"
     },
     "output_type": "display_data"
    }
   ],
   "source": [
    "from matplotlib import pyplot as plt\n",
    "\n",
    "plt.plot(lista_arquivos,temp_python,label=\"Python\")\n",
    "plt.plot(lista_arquivos,temp_cpp,label=\"C++\")\n",
    "plt.legend()"
   ]
  },
  {
   "cell_type": "markdown",
   "metadata": {},
   "source": [
    "Como é possível observar, os tempos para as primeiras 2 entradas foi muito próximo, no entanto na terceira entrada a solução em C++ conseguiu ter uma eficiência muito superior que a solução em Python."
   ]
  }
 ],
 "metadata": {
  "kernelspec": {
   "display_name": "Python 3",
   "language": "python",
   "name": "python3"
  },
  "language_info": {
   "codemirror_mode": {
    "name": "ipython",
    "version": 3
   },
   "file_extension": ".py",
   "mimetype": "text/x-python",
   "name": "python",
   "nbconvert_exporter": "python",
   "pygments_lexer": "ipython3",
   "version": "3.7.3"
  }
 },
 "nbformat": 4,
 "nbformat_minor": 2
}
